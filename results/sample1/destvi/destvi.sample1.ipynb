{
   "metadata": {
      "kernelspec": {
         "display_name": "Python 3 (ipykernel)",
         "language": "python",
         "name": "python3"
      }
   },
   "nbformat": 4,
   "nbformat_minor": 5,
   "cells": [
      {
         "cell_type": "markdown",
         "metadata": {},
         "source": [
            "# sample1"
         ],
         "id": "15751aff"
      },
      {
         "cell_type": "markdown",
         "metadata": {},
         "source": [
            "We use [DestVI](https://www.nature.com/articles/s41587-022-01272-8) and a single cell referenece dataset to infere the cell types present on each spot."
         ],
         "id": "1e2bc76c"
      },
      {
         "cell_type": "markdown",
         "metadata": {},
         "source": [
            "Here are the libraries we need."
         ],
         "id": "3584b238"
      },
      {
         "cell_type": "code",
         "execution_count": null,
         "metadata": {
            "scrolled": true,
            "tags": [
               "output_scroll"
            ]
         },
         "outputs": [],
         "source": [
            "from os import makedirs, remove, rmdir\n",
            "from os.path import exists, join\n",
            "from scipy.sparse import csr_matrix, issparse\n",
            "from scvi.model import CondSCVI, DestVI\n",
            "\n",
            "import anndata\n",
            "import matplotlib.pyplot as plt\n",
            "import numpy as np\n",
            "import os\n",
            "import pandas as pd\n",
            "import re\n",
            "import scanpy as sc\n",
            "import session_info"
         ],
         "id": "fd5056bb"
      },
      {
         "cell_type": "markdown",
         "metadata": {},
         "source": [
            "Some useful function to save AnnData objects and models."
         ],
         "id": "15b28f32"
      },
      {
         "cell_type": "code",
         "execution_count": null,
         "metadata": {
            "scrolled": true,
            "tags": [
               "output_scroll"
            ]
         },
         "outputs": [],
         "source": [
            "###############################################\n",
            "def save_anndata(anndata_object, num, suffix):#\n",
            "###############################################\n",
            "   if not issparse(anndata_object.X):\n",
            "      anndata_object.X = csr_matrix(anndata_object.X)\n",
            "   anndata_object.write_h5ad( join(\"output/h5ad\", f\"anndata.{num}.{suffix}.h5\") )\n",
            "   ###########################################################################\n",
            "\n",
            "#################################################\n",
            "def save_model(model_object, directory, suffix):#\n",
            "#################################################\n",
            "\n",
            "   model_dir = join(directory, f\"model_{suffix}\")\n",
            "   model_archive = join(model_dir, \"model.pt\")\n",
            "\n",
            "   if exists(model_archive):\n",
            "      remove(model_archive)\n",
            "\n",
            "   if exists(model_dir):\n",
            "      rmdir(model_dir)\n",
            "\n",
            "   model_object.save(model_dir)\n",
            "   ###########################################################################\n",
            "\n",
            "############################\n",
            "def has_zeros(name, adata):#\n",
            "############################\n",
            "   genes = np.sum( 0 == np.sum(adata.X, axis=0) )\n",
            "   cells = np.sum( 0 == np.sum(adata.X, axis=1) )\n",
            "   print(f\"{name}: {genes} zeros for genes and {cells} zeros for cells\")"
         ],
         "id": "399940e5"
      },
      {
         "cell_type": "markdown",
         "metadata": {},
         "source": [
            "We create the output directory for this noteboook.\n",
            "Every outputs will save there."
         ],
         "id": "7f62c77b"
      },
      {
         "cell_type": "code",
         "execution_count": null,
         "metadata": {
            "scrolled": true,
            "tags": [
               "output_scroll"
            ]
         },
         "outputs": [],
         "source": [
            "try:\n",
            "   makedirs(\"output/h5ad\")\n",
            "except OSError as e:\n",
            "   pass"
         ],
         "id": "fd502be4"
      },
      {
         "cell_type": "markdown",
         "metadata": {},
         "source": [
            "Configuration of scanpy."
         ],
         "id": "60f32ae5"
      },
      {
         "cell_type": "code",
         "execution_count": null,
         "metadata": {
            "scrolled": true,
            "tags": [
               "output_scroll"
            ]
         },
         "outputs": [],
         "source": [
            "sc.settings.figdir = \"output\"\n",
            "sc.set_figure_params(figsize=(4, 4), frameon=False)"
         ],
         "id": "b925de49"
      },
      {
         "cell_type": "markdown",
         "metadata": {},
         "source": [
            "## scRNA-seq reference dataset preprocessing"
         ],
         "id": "dad882f8"
      },
      {
         "cell_type": "markdown",
         "metadata": {},
         "source": [
            "### Loading\n",
            "\n",
            "We load the single-cell reference dataset."
         ],
         "id": "c24592e9"
      },
      {
         "cell_type": "code",
         "execution_count": null,
         "metadata": {
            "scrolled": true,
            "tags": [
               "output_scroll"
            ]
         },
         "outputs": [],
         "source": [
            "sc_adata = sc.read_10x_mtx(\"\")\n",
            "\n",
            "args = {\n",
            "   \"filepath_or_buffer\": join(\"\", \"types.tsv.gz\"),\n",
            "   \"header\": None,\n",
            "   \"compression\": \"gzip\"\n",
            "}\n",
            "types = pd.read_csv(**args).rename(columns={0: \"Type\"})\n",
            "types.index = sc_adata.obs_names\n",
            "sc_adata.obs = types\n",
            "\n",
            "sc_adata"
         ],
         "id": "03b126f8"
      },
      {
         "cell_type": "markdown",
         "metadata": {},
         "source": [
            "### Gene symbols\n",
            "\n",
            "We use the gene symbols as IDs and put convert everything to upper case.\n",
            "So, we also need to check that are no duplicates in gene symbols."
         ],
         "id": "837b47c6"
      },
      {
         "cell_type": "code",
         "execution_count": null,
         "metadata": {
            "scrolled": true,
            "tags": [
               "output_scroll"
            ]
         },
         "outputs": [],
         "source": [
            "sc_adata.var_names = sc_adata.var_names.str.upper()\n",
            "sc_adata = sc_adata[ : , ~ sc_adata.var_names.duplicated() ]"
         ],
         "id": "93a229c7"
      },
      {
         "cell_type": "markdown",
         "metadata": {},
         "source": [
            "### Minimum counts\n",
            "\n",
            "We need to remove the spots and the genes with no count."
         ],
         "id": "3381e4c8"
      },
      {
         "cell_type": "code",
         "execution_count": null,
         "metadata": {
            "scrolled": true,
            "tags": [
               "output_scroll"
            ]
         },
         "outputs": [],
         "source": [
            "sc_adata = sc_adata[ : , ~ np.all(sc_adata.X.toarray() == 0, axis=0) ]\n",
            "sc_adata = sc_adata[ ~ np.all(sc_adata.X.toarray() == 0, axis=1) , : ]\n",
            "\n",
            "save_anndata(sc_adata, \"00\", \"raw\")"
         ],
         "id": "2373d9af"
      },
      {
         "cell_type": "markdown",
         "metadata": {},
         "source": [
            "We remove the spots with too few UMIs."
         ],
         "id": "43d512d8"
      },
      {
         "cell_type": "code",
         "execution_count": null,
         "metadata": {
            "scrolled": true,
            "tags": [
               "output_scroll"
            ]
         },
         "outputs": [],
         "source": [
            "sc.pp.filter_genes(sc_adata, min_counts=10)\n",
            "sc_adata.layers[\"counts\"] = sc_adata.X.copy()\n",
            "\n",
            "save_anndata(sc_adata, \"01\", \"min_counts\")"
         ],
         "id": "445efc8d"
      },
      {
         "cell_type": "markdown",
         "metadata": {},
         "source": [
            "### Variable genes\n",
            "\n",
            "We select the most variable genes.\n",
            "This selection can create spots with no counts.\n",
            "So, we need to remove these spots."
         ],
         "id": "f43dc35d"
      },
      {
         "cell_type": "code",
         "execution_count": null,
         "metadata": {
            "scrolled": true,
            "tags": [
               "output_scroll"
            ]
         },
         "outputs": [],
         "source": [
            "sc.pp.highly_variable_genes(\n",
            "    sc_adata,\n",
            "    n_top_genes=2000,\n",
            "    subset=True,\n",
            "    layer=\"counts\",\n",
            "    flavor=\"seurat_v3\"\n",
            ")\n",
            "\n",
            "sc_adata.layers[\"counts\"] = sc_adata.X.copy()\n",
            "sc_adata = sc_adata[ ~ np.all( sc_adata.X.toarray() == 0 , axis=1 ) , : ]\n",
            "sc_adata.layers[\"counts\"] = sc_adata.X.copy()\n",
            "\n",
            "save_anndata(sc_adata, \"02\", \"var_genes\")"
         ],
         "id": "dd1b0c28"
      },
      {
         "cell_type": "markdown",
         "metadata": {},
         "source": [
            "### Normalization and log-transformation\n",
            "\n",
            "We normalize and log-transform the counts."
         ],
         "id": "1f0cbd9d"
      },
      {
         "cell_type": "code",
         "execution_count": null,
         "metadata": {
            "scrolled": true,
            "tags": [
               "output_scroll"
            ]
         },
         "outputs": [],
         "source": [
            "sc.pp.normalize_total(sc_adata, target_sum=10e4)\n",
            "save_anndata(sc_adata, \"03\", \"normalized\")\n",
            "\n",
            "sc.pp.log1p(sc_adata)\n",
            "sc_adata.raw = sc_adata\n",
            "save_anndata(sc_adata, \"04\", \"logtransformed\")"
         ],
         "id": "501e1ff4"
      },
      {
         "cell_type": "markdown",
         "metadata": {},
         "source": [
            "## The sample"
         ],
         "id": "c5a66f90"
      },
      {
         "cell_type": "markdown",
         "metadata": {},
         "source": [
            "### Loading\n",
            "\n",
            "We load the sample count and spatial data and create an AnnData object."
         ],
         "id": "faf120ed"
      },
      {
         "cell_type": "code",
         "execution_count": null,
         "metadata": {
            "scrolled": true,
            "tags": [
               "output_scroll"
            ]
         },
         "outputs": [],
         "source": [
            "spatial = pd\\\n",
            "   .read_csv(\"sample1.csv\")\\\n",
            "   .rename(columns={\"PuckBarcode\": \"Barcode\"})\\\n",
            "   .set_index(\"SeqBarcode\")\n",
            "\n",
            "st_adata = sc.read_10x_mtx(\"sample1\")\n",
            "st_adata.obs = spatial.loc[ st_adata.obs.index ]\n",
            "st_adata = st_adata[ : , ~ np.all(st_adata.X.toarray() == 0, axis=0) ]"
         ],
         "id": "0897749c"
      },
      {
         "cell_type": "markdown",
         "metadata": {},
         "source": [
            "### Preprocessing\n",
            "\n",
            "We need to apply the same preprocessing as with the scRNA-seq reference dataset.\n",
            "So, we convert the gene symbols to upper case.\n",
            "Then, we normalize, log-transform the counts and remove the duplicates."
         ],
         "id": "6e6ca228"
      },
      {
         "cell_type": "code",
         "execution_count": null,
         "metadata": {
            "scrolled": true,
            "tags": [
               "output_scroll"
            ]
         },
         "outputs": [],
         "source": [
            "st_adata.var_names = st_adata.var_names.str.upper()\n",
            "\n",
            "sc.pp.normalize_total(st_adata, target_sum=10e4)\n",
            "sc.pp.log1p(st_adata)\n",
            "\n",
            "st_adata.raw = st_adata\n",
            "\n",
            "sc_adata = sc_adata[ : , ~ sc_adata.var.index.duplicated(keep=False) ]\n",
            "st_adata = st_adata[ : , ~ st_adata.var.index.duplicated(keep=False) ]"
         ],
         "id": "0267a781"
      },
      {
         "cell_type": "markdown",
         "metadata": {},
         "source": [
            "## Common genes\n",
            "\n",
            "We select only the genes that are common to the sample and the reference.\n",
            "The number of genes can end up being quite low because we took only the most variable genes."
         ],
         "id": "cc3ddc4e"
      },
      {
         "cell_type": "code",
         "execution_count": null,
         "metadata": {
            "scrolled": true,
            "tags": [
               "output_scroll"
            ]
         },
         "outputs": [],
         "source": [
            "intersect = np.intersect1d(sc_adata.var_names, st_adata.var_names)\n",
            "\n",
            "print(\"{0} genes in common over {1}\".format(len(intersect), sc_adata.shape[1]))\n",
            "\n",
            "adata = sc_adata[:, intersect].copy()\n",
            "adata = adata[ ~ np.all( adata.X.toarray() == 0 , axis=1 ) , : ]\n",
            "adata.layers[\"counts\"] = adata.X.copy()\n",
            "\n",
            "st_adata = st_adata[:, intersect].copy()\n",
            "st_adata = st_adata[ ~ np.all(st_adata.X.toarray() == 0, axis=1) , :]\n",
            "st_adata.layers[\"counts\"] = st_adata.X.copy()\n",
            "st_adata.obsm[\"spatial\"] = st_adata.obs[[\"x\", \"y\"]].to_numpy()\n",
            "\n",
            "has_zeros(\"refeference\", adata)\n",
            "has_zeros(\"spatial\", st_adata)"
         ],
         "id": "7951c880"
      },
      {
         "cell_type": "markdown",
         "metadata": {},
         "source": [
            "## Single-cell model training"
         ],
         "id": "96ac711d"
      },
      {
         "cell_type": "markdown",
         "metadata": {},
         "source": [
            "We can now set up the single-cell model."
         ],
         "id": "61e4cad9"
      },
      {
         "cell_type": "code",
         "execution_count": null,
         "metadata": {
            "scrolled": true,
            "tags": [
               "output_scroll"
            ]
         },
         "outputs": [],
         "source": [
            "adata.obs[\"Type\"] = adata.obs.Type.astype(str) # CondSCVI fails otherwise\n",
            "CondSCVI.setup_anndata(adata, layer=\"counts\", labels_key=\"Type\")\n",
            "sc_model = CondSCVI(adata, weight_obs=False)\n",
            "sc_model.view_anndata_setup()"
         ],
         "id": "b343531b"
      },
      {
         "cell_type": "markdown",
         "metadata": {},
         "source": [
            "We train the model here."
         ],
         "id": "d28551dd"
      },
      {
         "cell_type": "code",
         "execution_count": null,
         "metadata": {
            "scrolled": true,
            "tags": [
               "output_scroll"
            ]
         },
         "outputs": [],
         "source": [
            "if true: # test mode\n",
            "   sc_model.train(max_epochs=2)\n",
            "   sc_model.history[\"elbo_train\"].plot()\n",
            "else: # normal mode\n",
            "   sc_model.train(max_epochs=150)\n",
            "   sc_model.history[\"elbo_train\"].iloc[5:].plot()\n",
            "\n",
            "plt.show()\n",
            "\n",
            "save_model(sc_model, \"output\", \"singlecell\")\n",
            "save_anndata(adata, \"05\", \"trained\")"
         ],
         "id": "610072f9"
      },
      {
         "cell_type": "markdown",
         "metadata": {},
         "source": [
            "## Annotation model training"
         ],
         "id": "88e439c5"
      },
      {
         "cell_type": "markdown",
         "metadata": {},
         "source": [
            "We can now set up the single-cell model."
         ],
         "id": "b1cf357d"
      },
      {
         "cell_type": "code",
         "execution_count": null,
         "metadata": {
            "scrolled": true,
            "tags": [
               "output_scroll"
            ]
         },
         "outputs": [],
         "source": [
            "DestVI.setup_anndata(st_adata, layer=\"counts\")\n",
            "st_model = DestVI.from_rna_model(st_adata, sc_model)\n",
            "st_model.view_anndata_setup()"
         ],
         "id": "428eb6d4"
      },
      {
         "cell_type": "markdown",
         "metadata": {},
         "source": [
            "We train the model here."
         ],
         "id": "ef8f750a"
      },
      {
         "cell_type": "code",
         "execution_count": null,
         "metadata": {
            "scrolled": true,
            "tags": [
               "output_scroll"
            ]
         },
         "outputs": [],
         "source": [
            "if true: # test mode\n",
            "   st_model.train(max_epochs=2)\n",
            "   st_model.history[\"elbo_train\"].plot()\n",
            "else: # normal mode\n",
            "   st_model.train(max_epochs=1500)\n",
            "   st_model.history[\"elbo_train\"].iloc[10:].plot() \n",
            "\n",
            "plt.show()\n",
            "\n",
            "st_adata.obsm[\"proportions\"] = st_model.get_proportions()\n",
            "\n",
            "save_model(st_model, \"output\", \"spatial\")\n",
            "save_anndata(st_adata, \"06\", \"proportions\")"
         ],
         "id": "014e10a2"
      },
      {
         "cell_type": "markdown",
         "metadata": {},
         "source": [
            "## Results"
         ],
         "id": "6477fb97"
      },
      {
         "cell_type": "markdown",
         "metadata": {},
         "source": [
            "As a first approximation, we just select the max probability for each spot."
         ],
         "id": "b134b26b"
      },
      {
         "cell_type": "code",
         "execution_count": null,
         "metadata": {
            "scrolled": true,
            "tags": [
               "output_scroll"
            ]
         },
         "outputs": [],
         "source": [
            "for cell_type in st_adata.obsm[\"proportions\"].columns:\n",
            "   data = st_adata.obsm[\"proportions\"][cell_type].values\n",
            "   st_adata.obs[cell_type] = np.clip(data, 0, np.quantile(data, 0.99))\n",
            "\n",
            "st_adata.obs[\"CellType\"] = st_adata.obsm[\"proportions\"].idxmax(axis=1)"
         ],
         "id": "9179f43b"
      },
      {
         "cell_type": "markdown",
         "metadata": {},
         "source": [
            ""
         ],
         "id": "041add59"
      },
      {
         "cell_type": "code",
         "execution_count": null,
         "metadata": {
            "scrolled": true,
            "tags": [
               "output_scroll"
            ]
         },
         "outputs": [],
         "source": [
            "sc.settings.figdir = \"output\"\n",
            "sc.settings.file_format_figs = \"png\" \n",
            "\n",
            "sc.pl.embedding(\n",
            "   st_adata,\n",
            "   basis=\"spatial\",\n",
            "   color=\"CellType\",\n",
            "   s=3,\n",
            "   save=f\".cell_type_all\",\n",
            "   show=True\n",
            "   )"
         ],
         "id": "78ee884e"
      },
      {
         "cell_type": "markdown",
         "metadata": {},
         "source": [
            "We plot the probability values for each cell type and for each spot."
         ],
         "id": "c4670102"
      },
      {
         "cell_type": "code",
         "execution_count": null,
         "metadata": {
            "scrolled": true,
            "tags": [
               "output_scroll"
            ]
         },
         "outputs": [],
         "source": [
            "sc.settings.figdir = \"output\"\n",
            "sc.settings.file_format_figs = \"png\" \n",
            "\n",
            "sc.pl.embedding(\n",
            "   st_adata,\n",
            "   basis=\"spatial\",\n",
            "   color=st_adata.obsm[\"proportions\"].columns,\n",
            "   cmap=\"Reds\",\n",
            "   s=3,\n",
            "   save=f\".cell_type_grid\",\n",
            "   show=True\n",
            "   )"
         ],
         "id": "adb36a35"
      },
      {
         "cell_type": "markdown",
         "metadata": {},
         "source": [
            "## Session info"
         ],
         "id": "11784d67"
      },
      {
         "cell_type": "code",
         "execution_count": null,
         "metadata": {
            "scrolled": true,
            "tags": []
         },
         "outputs": [],
         "source": [
            "session_info.show()"
         ],
         "id": "3517f6b3"
      }
   ]
}